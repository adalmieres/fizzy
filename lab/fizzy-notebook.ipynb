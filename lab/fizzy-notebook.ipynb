{
 "cells": [
  {
   "cell_type": "code",
   "execution_count": null,
   "metadata": {},
   "outputs": [],
   "source": [
    "import pandas as pd\n",
    "import numpy as np\n",
    "import matplotlib.pyplot as plt"
   ]
  },
  {
   "cell_type": "code",
   "execution_count": null,
   "metadata": {},
   "outputs": [],
   "source": [
    "# load raw data\n",
    "df = pd.read_json('../data/fizzy.json', lines=True, dtype=False)\n",
    "\n",
    "#start cleaning\n",
    "df['actualCostEth'] = pd.to_numeric('0.' + df.actualCost.str.split(' ').str[0])\n",
    "df['actualCostUsd'] = pd.to_numeric(df.actualCost.str.split(' ').str[2].str.slice(2,6,1))\n",
    "df['blockHeight'] = pd.to_numeric(df.blockHeight)\n",
    "df['gasLimit'] = pd.to_numeric(df.gasLimit)\n",
    "df['gasPrice'] = pd.to_numeric('0.' + df.gasPrice.str.split(' ').str[0])\n",
    "df['gasUsed'] = pd.to_numeric(df.gasUsed.str.split(' ').str[0])\n",
    "df['timeStamp'] = df.timeStamp.str.extract('\\((.*)\\)')\n",
    "df['timeStamp'] = pd.to_datetime(df.timeStamp, format='%b-%d-%Y %I:%M:%S %p +%Z')\n",
    "df['inputData'] = df.inputData.str.replace('[\\\\r|\\\\n]', '')\n",
    "df['functionCalled'] = df.inputData.str.extract('Function: (.*)\\(')\n",
    "df['flightId'] = df.inputData.str.extract('[addNewInsurance|updateFlightStatus|manualInsuranceResolution].*\\[0\\]:\\s\\s(.{64})')\n",
    "df['flightNo'] = df.flightId.str.decode('hex') \\\n",
    "                            .str.decode('utf-8') \\\n",
    "                            .str.rsplit('.',n=1) \\\n",
    "                            .str.get(0) \\\n",
    "                            .str.replace('.','')\n",
    "df['departureDate'] = pd.to_datetime(df.flightId.str.decode('hex') \\\n",
    "                                     .str.decode('utf-8') \\\n",
    "                                     .str.rsplit('.',n=1) \\\n",
    "                                     .str.get(1) \\\n",
    "                                     .str.slice(0,10,1), unit='s')\n",
    "df['limitArrivalTime'] = df.inputData.str.extract('addNewInsurance.*\\[1\\]:\\s\\s(.{64})')\n",
    "df['limitArrivalTime'] = pd.to_datetime(df.limitArrivalTime.str[-12:].apply(lambda x: None if pd.isnull(x) else int(str(x), 16)),unit='ms')\n",
    "df['premium'] = df.inputData.str.extract('addNewInsurance.*\\[2\\]:\\s\\s(.{64})')\n",
    "df['premium'] = df.premium.apply(lambda x: None if pd.isnull(x) else int(str(x), 16))\n",
    "df['indemnity'] = df.inputData.str.extract('addNewInsurance.*\\[3\\]:\\s\\s(.{64})')\n",
    "df['indemnity'] = df.indemnity.apply(lambda x: None if pd.isnull(x) else int(str(x), 16))\n",
    "df['productId'] = df.inputData.str.extract('(?:addNewInsurance.*\\[4\\]:\\s\\s|manualInsuranceResolution.*\\[2\\]:\\s\\s)(.{64})')\n",
    "df['actualArrivalTime'] = df.inputData.str.extract('updateFlightStatus.*\\[1\\]:\\s\\s(.{64})')\n",
    "df['actualArrivalTime'] = pd.to_datetime(df.actualArrivalTime.str[-12:].apply(lambda x: None if pd.isnull(x) else int(str(x), 16)),unit='ms')\n",
    "df['newStatusId'] = df.inputData.str.extract('manualInsuranceResolution.*\\[1\\]:\\s\\s(.{64})')\n",
    "df['value'] = pd.to_numeric(df.value.str.slice(0,1,1))\n",
    "df['eventName'] = df.eventName.str[0:-2]\n",
    "df['eventStatus'] = df.eventParam5.apply(lambda x: None if x == \"None\" else int(str(x),16))\n",
    "df['eventIndemnity'] = df[df['eventName'] == \"InsuranceUpdate\"]['eventParam4'].apply(lambda x: None if x == \"None\" else int(str(x),16))\n",
    "del df['txReceiptStatus']\n",
    "del df['inputData']\n",
    "del df['actualCost']\n",
    "del df['eventParam1']\n",
    "del df['eventParam2']\n",
    "del df['eventParam3']\n",
    "del df['eventParam4']\n",
    "del df['eventParam5']"
   ]
  },
  {
   "cell_type": "markdown",
   "metadata": {},
   "source": [
    "# Informations de bases"
   ]
  },
  {
   "cell_type": "code",
   "execution_count": null,
   "metadata": {},
   "outputs": [],
   "source": [
    "loss = df[df['eventStatus'] == 2]['eventIndemnity'].sum()\n",
    "premium = df[df['eventName'] == 'InsuranceCreation']['premium'].sum()\n",
    "nbContrat = df['productId'].nunique()\n",
    "nbClaim = df[df['eventStatus'] == 2]['eventIndemnity'].count()\n",
    "medianPremium = df[df['eventName'] == 'InsuranceCreation']['premium'].median()\n",
    "meanPremium = df[df['eventName'] == 'InsuranceCreation']['premium'].mean()\n",
    "print(\"Sinistre : \" + str(loss) + \"€\")\n",
    "print(\"Primes : \" + str(premium) + \"€\")\n",
    "print(\"S/P : \" + str(round((loss/premium)*100,2)) + \"%\")\n",
    "print(\"Nombre de contrat : \" + str(nbContrat))\n",
    "print(\"Nombre de sinistre : \" + str(nbClaim))\n",
    "print(\"Prime médiane :\" + str(medianPremium) + \"€\")\n",
    "print(\"Prime moyenne :\" + str(round(meanPremium,2)) + \"€\")"
   ]
  },
  {
   "cell_type": "code",
   "execution_count": null,
   "metadata": {},
   "outputs": [],
   "source": [
    "#from matplotlib.pyplot import figure\n",
    "plt.figure(num=None, figsize=(18, 5), dpi=80, facecolor='w', edgecolor='k')\n",
    "\n",
    "ts = df[df['eventName'] == 'InsuranceCreation']['timeStamp'].groupby(df.timeStamp.dt.floor('d')).size().reset_index(name='count')\n",
    "plt.plot(ts['timeStamp'], ts['count'])\n",
    "plt.title(\"Souscription à Fizzy au court du temps\")\n",
    "plt.xlabel(\"date\")\n",
    "plt.ylabel(\"nb de souscription/jour (log)\")\n",
    "plt.yscale(\"log\")\n",
    "plt.xticks(rotation='45')\n",
    "plt.grid(True)\n",
    "plt.show()"
   ]
  },
  {
   "cell_type": "code",
   "execution_count": null,
   "metadata": {},
   "outputs": [],
   "source": [
    "# Les 10 vols les plus assurés\n",
    "df[df['functionCalled'] == 'addNewInsurance']['flightNo'].value_counts()[0:10]"
   ]
  },
  {
   "cell_type": "code",
   "execution_count": null,
   "metadata": {},
   "outputs": [],
   "source": []
  }
 ],
 "metadata": {
  "kernelspec": {
   "display_name": "Python 3",
   "language": "python",
   "name": "python3"
  },
  "language_info": {
   "codemirror_mode": {
    "name": "ipython",
    "version": 3
   },
   "file_extension": ".py",
   "mimetype": "text/x-python",
   "name": "python",
   "nbconvert_exporter": "python",
   "pygments_lexer": "ipython3",
   "version": "3.6.7"
  }
 },
 "nbformat": 4,
 "nbformat_minor": 2
}
